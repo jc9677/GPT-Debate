{
 "cells": [
  {
   "cell_type": "code",
   "execution_count": 9,
   "metadata": {},
   "outputs": [],
   "source": [
    "import openai\n",
    "import os\n",
    "import getpass\n",
    "\n",
    "key = getpass.getpass(\"Enter your API key: \")\n",
    "openai.api_key = key"
   ]
  },
  {
   "cell_type": "code",
   "execution_count": 3,
   "metadata": {},
   "outputs": [
    {
     "name": "stdout",
     "output_type": "stream",
     "text": [
      "Topic: Do aliens exist?\n",
      "\n",
      "Round 1\n",
      "Pro:  I would say that the existence of aliens is possible. I think that there is a high chance that aliens exist in some form or another, whether that be intelligent life or simple life forms. I also think that aliens may have visited our planet at some point in the past, but there is no concrete evidence to support this claim.\n",
      "Con:  There is no concrete evidence to support the claim that aliens have visited our planet, and therefore I think it is unlikely that they exist.\n",
      "\n",
      "Round 2\n",
      "Pro:  There are a few ways to respond to this counter-argument. One could point to the many reports of unidentified flying objects throughout history and argue that aliens might be visiting our planet without leaving any concrete evidence behind. One could also argue that aliens might exist in a different form than what we typically imagine, making it difficult to find concrete evidence of their existence. Finally, one could simply state that lack of evidence is not proof that something does not exist, and that believing in aliens is a matter of faith.\n",
      "Con:  The first response would be to look at the reports of unidentified flying objects and try to find a natural explanation for them. The second response would be to argue that aliens might exist in a different form than what we typically imagine, making it difficult to find concrete evidence of their existence. The third response would be to simply state that lack of evidence is not proof that something does not exist, and that believing in aliens is a matter of faith.\n",
      "\n",
      "Round 3\n",
      "Pro:  There are a few different ways to respond to this counter-argument. The first response would be to look at the reports of unidentified flying objects and try to find a natural explanation for them. The second response would be to argue that aliens might exist in a different form than what we typically imagine, making it difficult to find concrete evidence of their existence. The third response would be to simply state that lack of evidence is not proof that something does not exist, and that believing in aliens is a matter of faith.\n",
      "Con:  The first response would be to look at the reports of unidentified flying objects and try to find a natural explanation for them. The second response would be to argue that aliens might exist in a different form than what we typically imagine, making it difficult to find concrete evidence of their existence. The third response would be to simply state that lack of evidence is not proof that something does not exist, and that believing in aliens is a matter of faith.\n",
      "\n",
      "Round 4\n",
      "Pro:  I believe that aliens might exist in a different form than what we typically imagine, making it difficult to find concrete evidence of their existence. I also believe that lack of evidence is not proof that something does not exist, and that believing in aliens is a matter of faith.\n",
      "Con:  There are a few ways to respond to this claim. One could point out that there is a lack of evidence for aliens in general, not just a lack of evidence for aliens that fit a certain preconceived notion. One could also argue that believing in something for which there is no evidence is not a matter of faith, but a matter of gullibility.\n",
      "\n",
      "Round 5\n",
      "Pro:  There is a lack of evidence for aliens in general, not just a lack of evidence for aliens that fit a certain preconceived notion. One could also argue that believing in something for which there is no evidence is not a matter of faith, but a matter of gullibility.\n",
      "Con:  There is no evidence for aliens in general, and believing in something for which there is no evidence is indeed a matter of gullibility.\n",
      "\n"
     ]
    }
   ],
   "source": [
    "\n",
    "def generate_response(prompt):\n",
    "    response = openai.Completion.create(\n",
    "        engine=\"text-davinci-002\",\n",
    "        prompt=prompt,\n",
    "        max_tokens=500,\n",
    "        n=1,\n",
    "        stop=None,\n",
    "        temperature=0.7,\n",
    "    )\n",
    "\n",
    "    return response.choices[0].text.strip()\n",
    "\n",
    "def main():\n",
    "    topic = \"Do aliens exist?\"\n",
    "    rounds = 5\n",
    "\n",
    "    pro_prompt = f\"As someone who believes in the existence of aliens, \"\n",
    "    con_prompt = f\"As someone who does not believe in the existence of aliens, \"\n",
    "\n",
    "    print(f\"Topic: {topic}\\n\")\n",
    "\n",
    "    for i in range(rounds):\n",
    "        print(f\"Round {i + 1}\")\n",
    "\n",
    "        pro_response = generate_response(pro_prompt)\n",
    "        print(\"Pro: \", pro_response)\n",
    "\n",
    "        con_prompt = f\"As someone who does not believe in the existence of aliens, how would you respond to the claim that '{pro_response}'?\"\n",
    "        con_response = generate_response(con_prompt)\n",
    "        print(\"Con: \", con_response)\n",
    "\n",
    "        if i < rounds - 1:\n",
    "            pro_prompt = f\"As someone who believes in the existence of aliens, how would you respond to the counter-argument that '{con_response}'?\"\n",
    "\n",
    "        print()\n",
    "\n",
    "if __name__ == \"__main__\":\n",
    "    main()"
   ]
  },
  {
   "cell_type": "code",
   "execution_count": null,
   "metadata": {},
   "outputs": [],
   "source": []
  }
 ],
 "metadata": {
  "kernelspec": {
   "display_name": "base",
   "language": "python",
   "name": "python3"
  },
  "language_info": {
   "codemirror_mode": {
    "name": "ipython",
    "version": 3
   },
   "file_extension": ".py",
   "mimetype": "text/x-python",
   "name": "python",
   "nbconvert_exporter": "python",
   "pygments_lexer": "ipython3",
   "version": "3.9.12"
  },
  "orig_nbformat": 4
 },
 "nbformat": 4,
 "nbformat_minor": 2
}
